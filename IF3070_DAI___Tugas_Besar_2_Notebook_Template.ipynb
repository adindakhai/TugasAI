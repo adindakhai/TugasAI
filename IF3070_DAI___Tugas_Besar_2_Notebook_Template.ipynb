{
  "cells": [
    {
      "cell_type": "markdown",
      "metadata": {
        "id": "uR1JW69eLfG_"
      },
      "source": [
        "# IF3070 Foundations of Artificial Intelligence | Tugas Besar 2\n",
        "\n",
        "This notebook serves as a template for the assignment. Please create a copy of this notebook to complete your work. You can add more code blocks, markdown blocks, or new sections if needed.\n"
      ]
    },
    {
      "cell_type": "markdown",
      "metadata": {
        "id": "ucbaI5rBLtjJ"
      },
      "source": [
        "Group Number: 05\n",
        "\n",
        "Group Members:\n",
        "- Adinda Khairunnisa Indraputri (18222104)\n",
        "- Chairul Nur Wahid (18222132)"
      ]
    },
    {
      "cell_type": "markdown",
      "metadata": {
        "id": "GwzsfETHLfHA"
      },
      "source": [
        "## Import Libraries"
      ]
    },
    {
      "cell_type": "markdown",
      "metadata": {
        "id": "ta4xYrdvFtLd"
      },
      "source": []
    },
    {
      "cell_type": "code",
      "execution_count": 15,
      "metadata": {
        "id": "jZJU5W_4LfHB"
      },
      "outputs": [],
      "source": [
        "import pandas as pd\n",
        "import numpy as np\n",
        "\n",
        "from sklearn.model_selection import train_test_split\n",
        "from sklearn.impute import SimpleImputer\n",
        "from sklearn.base import BaseEstimator, TransformerMixin\n",
        "from sklearn.preprocessing import StandardScaler, OneHotEncoder, MinMaxScaler, RobustScaler, PolynomialFeatures\n",
        "from sklearn.pipeline import Pipeline\n",
        "from sklearn.compose import ColumnTransformer\n",
        "from sklearn.utils import resample\n",
        "\n",
        "\n",
        "# Import other libraries if needed"
      ]
    },
    {
      "cell_type": "markdown",
      "metadata": {
        "id": "OKbjLIdYLfHC"
      },
      "source": [
        "## Import Dataset"
      ]
    },
    {
      "cell_type": "code",
      "execution_count": 16,
      "metadata": {
        "colab": {
          "base_uri": "https://localhost:8080/",
          "height": 255
        },
        "id": "-IWFJ-gdLfHD",
        "outputId": "95eb4ec2-aab8-46e1-8187-e90e07df1bf0"
      },
      "outputs": [
        {
          "data": {
            "text/html": [
              "<div>\n",
              "<style scoped>\n",
              "    .dataframe tbody tr th:only-of-type {\n",
              "        vertical-align: middle;\n",
              "    }\n",
              "\n",
              "    .dataframe tbody tr th {\n",
              "        vertical-align: top;\n",
              "    }\n",
              "\n",
              "    .dataframe thead th {\n",
              "        text-align: right;\n",
              "    }\n",
              "</style>\n",
              "<table border=\"1\" class=\"dataframe\">\n",
              "  <thead>\n",
              "    <tr style=\"text-align: right;\">\n",
              "      <th></th>\n",
              "      <th>id</th>\n",
              "      <th>FILENAME</th>\n",
              "      <th>URL</th>\n",
              "      <th>URLLength</th>\n",
              "      <th>Domain</th>\n",
              "      <th>DomainLength</th>\n",
              "      <th>IsDomainIP</th>\n",
              "      <th>TLD</th>\n",
              "      <th>CharContinuationRate</th>\n",
              "      <th>TLDLegitimateProb</th>\n",
              "      <th>...</th>\n",
              "      <th>Pay</th>\n",
              "      <th>Crypto</th>\n",
              "      <th>HasCopyrightInfo</th>\n",
              "      <th>NoOfImage</th>\n",
              "      <th>NoOfCSS</th>\n",
              "      <th>NoOfJS</th>\n",
              "      <th>NoOfSelfRef</th>\n",
              "      <th>NoOfEmptyRef</th>\n",
              "      <th>NoOfExternalRef</th>\n",
              "      <th>label</th>\n",
              "    </tr>\n",
              "  </thead>\n",
              "  <tbody>\n",
              "    <tr>\n",
              "      <th>0</th>\n",
              "      <td>1</td>\n",
              "      <td>NaN</td>\n",
              "      <td>https://www.northcm.ac.th</td>\n",
              "      <td>24.0</td>\n",
              "      <td>www.northcm.ac.th</td>\n",
              "      <td>17.0</td>\n",
              "      <td>0.0</td>\n",
              "      <td>NaN</td>\n",
              "      <td>0.800000</td>\n",
              "      <td>NaN</td>\n",
              "      <td>...</td>\n",
              "      <td>0.0</td>\n",
              "      <td>0.0</td>\n",
              "      <td>1.0</td>\n",
              "      <td>NaN</td>\n",
              "      <td>3.0</td>\n",
              "      <td>NaN</td>\n",
              "      <td>69.0</td>\n",
              "      <td>NaN</td>\n",
              "      <td>NaN</td>\n",
              "      <td>1</td>\n",
              "    </tr>\n",
              "    <tr>\n",
              "      <th>1</th>\n",
              "      <td>4</td>\n",
              "      <td>8135291.txt</td>\n",
              "      <td>http://uqr.to/1il1z</td>\n",
              "      <td>NaN</td>\n",
              "      <td>NaN</td>\n",
              "      <td>NaN</td>\n",
              "      <td>NaN</td>\n",
              "      <td>to</td>\n",
              "      <td>1.000000</td>\n",
              "      <td>0.000896</td>\n",
              "      <td>...</td>\n",
              "      <td>NaN</td>\n",
              "      <td>0.0</td>\n",
              "      <td>0.0</td>\n",
              "      <td>NaN</td>\n",
              "      <td>NaN</td>\n",
              "      <td>NaN</td>\n",
              "      <td>NaN</td>\n",
              "      <td>NaN</td>\n",
              "      <td>1.0</td>\n",
              "      <td>0</td>\n",
              "    </tr>\n",
              "    <tr>\n",
              "      <th>2</th>\n",
              "      <td>5</td>\n",
              "      <td>586561.txt</td>\n",
              "      <td>https://www.woolworthsrewards.com.au</td>\n",
              "      <td>35.0</td>\n",
              "      <td>www.woolworthsrewards.com.au</td>\n",
              "      <td>28.0</td>\n",
              "      <td>0.0</td>\n",
              "      <td>au</td>\n",
              "      <td>0.857143</td>\n",
              "      <td>NaN</td>\n",
              "      <td>...</td>\n",
              "      <td>1.0</td>\n",
              "      <td>0.0</td>\n",
              "      <td>1.0</td>\n",
              "      <td>33.0</td>\n",
              "      <td>7.0</td>\n",
              "      <td>8.0</td>\n",
              "      <td>15.0</td>\n",
              "      <td>NaN</td>\n",
              "      <td>2.0</td>\n",
              "      <td>1</td>\n",
              "    </tr>\n",
              "    <tr>\n",
              "      <th>3</th>\n",
              "      <td>6</td>\n",
              "      <td>NaN</td>\n",
              "      <td>NaN</td>\n",
              "      <td>31.0</td>\n",
              "      <td>NaN</td>\n",
              "      <td>NaN</td>\n",
              "      <td>NaN</td>\n",
              "      <td>com</td>\n",
              "      <td>0.562500</td>\n",
              "      <td>0.522907</td>\n",
              "      <td>...</td>\n",
              "      <td>1.0</td>\n",
              "      <td>0.0</td>\n",
              "      <td>1.0</td>\n",
              "      <td>24.0</td>\n",
              "      <td>5.0</td>\n",
              "      <td>14.0</td>\n",
              "      <td>NaN</td>\n",
              "      <td>NaN</td>\n",
              "      <td>NaN</td>\n",
              "      <td>1</td>\n",
              "    </tr>\n",
              "    <tr>\n",
              "      <th>4</th>\n",
              "      <td>11</td>\n",
              "      <td>412632.txt</td>\n",
              "      <td>NaN</td>\n",
              "      <td>NaN</td>\n",
              "      <td>www.nyprowrestling.com</td>\n",
              "      <td>22.0</td>\n",
              "      <td>0.0</td>\n",
              "      <td>NaN</td>\n",
              "      <td>1.000000</td>\n",
              "      <td>NaN</td>\n",
              "      <td>...</td>\n",
              "      <td>0.0</td>\n",
              "      <td>0.0</td>\n",
              "      <td>1.0</td>\n",
              "      <td>NaN</td>\n",
              "      <td>NaN</td>\n",
              "      <td>14.0</td>\n",
              "      <td>NaN</td>\n",
              "      <td>0.0</td>\n",
              "      <td>NaN</td>\n",
              "      <td>1</td>\n",
              "    </tr>\n",
              "  </tbody>\n",
              "</table>\n",
              "<p>5 rows × 56 columns</p>\n",
              "</div>"
            ],
            "text/plain": [
              "   id     FILENAME                                   URL  URLLength  \\\n",
              "0   1          NaN             https://www.northcm.ac.th       24.0   \n",
              "1   4  8135291.txt                   http://uqr.to/1il1z        NaN   \n",
              "2   5   586561.txt  https://www.woolworthsrewards.com.au       35.0   \n",
              "3   6          NaN                                   NaN       31.0   \n",
              "4  11   412632.txt                                   NaN        NaN   \n",
              "\n",
              "                         Domain  DomainLength  IsDomainIP  TLD  \\\n",
              "0             www.northcm.ac.th          17.0         0.0  NaN   \n",
              "1                           NaN           NaN         NaN   to   \n",
              "2  www.woolworthsrewards.com.au          28.0         0.0   au   \n",
              "3                           NaN           NaN         NaN  com   \n",
              "4        www.nyprowrestling.com          22.0         0.0  NaN   \n",
              "\n",
              "   CharContinuationRate  TLDLegitimateProb  ...  Pay  Crypto  \\\n",
              "0              0.800000                NaN  ...  0.0     0.0   \n",
              "1              1.000000           0.000896  ...  NaN     0.0   \n",
              "2              0.857143                NaN  ...  1.0     0.0   \n",
              "3              0.562500           0.522907  ...  1.0     0.0   \n",
              "4              1.000000                NaN  ...  0.0     0.0   \n",
              "\n",
              "   HasCopyrightInfo  NoOfImage  NoOfCSS  NoOfJS  NoOfSelfRef  NoOfEmptyRef  \\\n",
              "0               1.0        NaN      3.0     NaN         69.0           NaN   \n",
              "1               0.0        NaN      NaN     NaN          NaN           NaN   \n",
              "2               1.0       33.0      7.0     8.0         15.0           NaN   \n",
              "3               1.0       24.0      5.0    14.0          NaN           NaN   \n",
              "4               1.0        NaN      NaN    14.0          NaN           0.0   \n",
              "\n",
              "   NoOfExternalRef  label  \n",
              "0              NaN      1  \n",
              "1              1.0      0  \n",
              "2              2.0      1  \n",
              "3              NaN      1  \n",
              "4              NaN      1  \n",
              "\n",
              "[5 rows x 56 columns]"
            ]
          },
          "execution_count": 16,
          "metadata": {},
          "output_type": "execute_result"
        }
      ],
      "source": [
        "# Reading CSV files from a gdrive link {Google Collab}\n",
        "train_df = pd.read_csv('https://drive.google.com/uc?id=1e1DOnQc-8_12ytIxqM8HjQNS9-q99IWJ')\n",
        "\n",
        "# Display the first few rows of the DataFrame\n",
        "train_df.head()"
      ]
    },
    {
      "cell_type": "markdown",
      "metadata": {
        "id": "gvx-gT3bLfHM"
      },
      "source": [
        "# 1. Split Training Set and Validation Set\n",
        "\n",
        "Splitting the training and validation set works as an early diagnostic towards the performance of the model we train. This is done before the preprocessing steps to **avoid data leakage inbetween the sets**. If you want to use k-fold cross-validation, split the data later and do the cleaning and preprocessing separately for each split.\n",
        "\n",
        "Note: For training, you should use the data contained in the `train` folder given by the TA. The `test` data is only used for kaggle submission."
      ]
    },
    {
      "cell_type": "code",
      "execution_count": 18,
      "metadata": {
        "id": "4yWCUFFBLfHM"
      },
      "outputs": [
        {
          "name": "stdout",
          "output_type": "stream",
          "text": [
            "First few rows of the dataset:\n",
            "   id     FILENAME                                   URL  URLLength  \\\n",
            "0   1          NaN             https://www.northcm.ac.th       24.0   \n",
            "1   4  8135291.txt                   http://uqr.to/1il1z        NaN   \n",
            "2   5   586561.txt  https://www.woolworthsrewards.com.au       35.0   \n",
            "3   6          NaN                                   NaN       31.0   \n",
            "4  11   412632.txt                                   NaN        NaN   \n",
            "\n",
            "                         Domain  DomainLength  IsDomainIP  TLD  \\\n",
            "0             www.northcm.ac.th          17.0         0.0  NaN   \n",
            "1                           NaN           NaN         NaN   to   \n",
            "2  www.woolworthsrewards.com.au          28.0         0.0   au   \n",
            "3                           NaN           NaN         NaN  com   \n",
            "4        www.nyprowrestling.com          22.0         0.0  NaN   \n",
            "\n",
            "   CharContinuationRate  TLDLegitimateProb  ...  Pay  Crypto  \\\n",
            "0              0.800000                NaN  ...  0.0     0.0   \n",
            "1              1.000000           0.000896  ...  NaN     0.0   \n",
            "2              0.857143                NaN  ...  1.0     0.0   \n",
            "3              0.562500           0.522907  ...  1.0     0.0   \n",
            "4              1.000000                NaN  ...  0.0     0.0   \n",
            "\n",
            "   HasCopyrightInfo  NoOfImage  NoOfCSS  NoOfJS  NoOfSelfRef  NoOfEmptyRef  \\\n",
            "0               1.0        NaN      3.0     NaN         69.0           NaN   \n",
            "1               0.0        NaN      NaN     NaN          NaN           NaN   \n",
            "2               1.0       33.0      7.0     8.0         15.0           NaN   \n",
            "3               1.0       24.0      5.0    14.0          NaN           NaN   \n",
            "4               1.0        NaN      NaN    14.0          NaN           0.0   \n",
            "\n",
            "   NoOfExternalRef  label  \n",
            "0              NaN      1  \n",
            "1              1.0      0  \n",
            "2              2.0      1  \n",
            "3              NaN      1  \n",
            "4              NaN      1  \n",
            "\n",
            "[5 rows x 56 columns]\n",
            "Training set shape: (112323, 55) (112323,)\n",
            "Validation set shape: (28081, 55) (28081,)\n"
          ]
        }
      ],
      "source": [
        "# Split training set and validation set here, store into variables train_set and val_set.\n",
        "# Remember to also keep the original training set before splitting. This will come important later.\n",
        "# train_set, val_set = ...\n",
        "\n",
        "# Display the first few rows of the dataset to understand its structure\n",
        "print(\"First few rows of the dataset:\")\n",
        "print(train_df.head())\n",
        "\n",
        "# Check if the dataset has a target column\n",
        "if 'label' not in train_df.columns:\n",
        "    raise ValueError(\"Dataset does not contain a 'label' column. Please ensure the target variable is correctly named.\")\n",
        "\n",
        "# Split the dataset into features (X) and target (y)\n",
        "X = train_df.drop(columns=['label'])  # Replace 'label' with the actual name of your target column if different\n",
        "y = train_df['label']\n",
        "\n",
        "# Split the dataset into training and validation sets\n",
        "X_train, X_val, y_train, y_val = train_test_split(X, y, test_size=0.2, random_state=42, stratify=y)\n",
        "\n",
        "# Print the shapes of the splits\n",
        "print(\"Training set shape:\", X_train.shape, y_train.shape)\n",
        "print(\"Validation set shape:\", X_val.shape, y_val.shape)\n",
        "\n",
        "# # Save the splits to CSV files for further use if needed\n",
        "# X_train.to_csv('X_train.csv', index=False)\n",
        "# y_train.to_csv('y_train.csv', index=False)\n",
        "# X_val.to_csv('X_val.csv', index=False)\n",
        "# y_val.to_csv('y_val.csv', index=False)"
      ]
    },
    {
      "cell_type": "markdown",
      "metadata": {
        "id": "IC14lmo_LfHN"
      },
      "source": [
        "# 2. Data Cleaning and Preprocessing\n",
        "\n",
        "This step is the first thing to be done once a Data Scientist have grasped a general knowledge of the data. Raw data is **seldom ready for training**, therefore steps need to be taken to clean and format the data for the Machine Learning model to interpret.\n",
        "\n",
        "By performing data cleaning and preprocessing, you ensure that your dataset is ready for model training, leading to more accurate and reliable machine learning results. These steps are essential for transforming raw data into a format that machine learning algorithms can effectively learn from and make predictions.\n",
        "\n",
        "We will give some common methods for you to try, but you only have to **at least implement one method for each process**. For each step that you will do, **please explain the reason why did you do that process. Write it in a markdown cell under the code cell you wrote.**"
      ]
    },
    {
      "cell_type": "markdown",
      "metadata": {
        "id": "p95_A8hSLfHY"
      },
      "source": [
        "## A. Data Cleaning\n",
        "\n",
        "**Data cleaning** is the crucial first step in preparing your dataset for machine learning. Raw data collected from various sources is often messy and may contain errors, missing values, and inconsistencies. Data cleaning involves the following steps:\n",
        "\n",
        "1. **Handling Missing Data:** Identify and address missing values in the dataset. This can include imputing missing values, removing rows or columns with excessive missing data, or using more advanced techniques like interpolation.\n",
        "\n",
        "2. **Dealing with Outliers:** Identify and handle outliers, which are data points significantly different from the rest of the dataset. Outliers can be removed or transformed to improve model performance.\n",
        "\n",
        "3. **Data Validation:** Check for data integrity and consistency. Ensure that data types are correct, categorical variables have consistent labels, and numerical values fall within expected ranges.\n",
        "\n",
        "4. **Removing Duplicates:** Identify and remove duplicate rows, as they can skew the model's training process and evaluation metrics.\n",
        "\n",
        "5. **Feature Engineering**: Create new features or modify existing ones to extract relevant information. This step can involve scaling, normalizing, or encoding features for better model interpretability."
      ]
    },
    {
      "cell_type": "markdown",
      "metadata": {
        "id": "_wruGao9LfHZ"
      },
      "source": [
        "### I. Handling Missing Data\n",
        "\n",
        "Missing data can adversely affect the performance and accuracy of machine learning models. There are several strategies to handle missing data in machine learning:\n",
        "\n",
        "1. **Data Imputation:**\n",
        "\n",
        "    a. **Mean, Median, or Mode Imputation:** For numerical features, you can replace missing values with the mean, median, or mode of the non-missing values in the same feature. This method is simple and often effective when data is missing at random.\n",
        "\n",
        "    b. **Constant Value Imputation:** You can replace missing values with a predefined constant value (e.g., 0) if it makes sense for your dataset and problem.\n",
        "\n",
        "    c. **Imputation Using Predictive Models:** More advanced techniques involve using predictive models to estimate missing values. For example, you can train a regression model to predict missing numerical values or a classification model to predict missing categorical values.\n",
        "\n",
        "2. **Deletion of Missing Data:**\n",
        "\n",
        "    a. **Listwise Deletion:** In cases where the amount of missing data is relatively small, you can simply remove rows with missing values from your dataset. However, this approach can lead to a loss of valuable information.\n",
        "\n",
        "    b. **Column (Feature) Deletion:** If a feature has a large number of missing values and is not critical for your analysis, you can consider removing that feature altogether.\n",
        "\n",
        "3. **Domain-Specific Strategies:**\n",
        "\n",
        "    a. **Domain Knowledge:** In some cases, domain knowledge can guide the imputation process. For example, if you know that missing values are related to a specific condition, you can impute them accordingly.\n",
        "\n",
        "4. **Imputation Libraries:**\n",
        "\n",
        "    a. **Scikit-Learn:** Scikit-Learn provides a `SimpleImputer` class that can handle basic imputation strategies like mean, median, and mode imputation.\n",
        "\n",
        "    b. **Fancyimpute:** Fancyimpute is a Python library that offers more advanced imputation techniques, including matrix factorization, k-nearest neighbors, and deep learning-based methods.\n",
        "\n",
        "The choice of imputation method should be guided by the nature of your data, the amount of missing data, the problem you are trying to solve, and the assumptions you are willing to make."
      ]
    },
    {
      "cell_type": "code",
      "execution_count": 23,
      "metadata": {
        "id": "ucZNfCkiLfHZ"
      },
      "outputs": [
        {
          "name": "stdout",
          "output_type": "stream",
          "text": [
            "Cleaned dataset saved. First 5 rows:\n",
            "      FILENAME                                                URL  URLLength  \\\n",
            "0   100000.txt                          https://www.northcm.ac.th       24.0   \n",
            "1  8135291.txt                                http://uqr.to/1il1z       26.0   \n",
            "2   586561.txt               https://www.woolworthsrewards.com.au       35.0   \n",
            "3   100000.txt  http://test-mantenimiento-bancaweb.azurewebsit...       31.0   \n",
            "4   412632.txt  http://test-mantenimiento-bancaweb.azurewebsit...       26.0   \n",
            "\n",
            "                         Domain  DomainLength  IsDomainIP  TLD  \\\n",
            "0             www.northcm.ac.th          17.0         0.0  com   \n",
            "1                       ipfs.io          19.0         0.0   to   \n",
            "2  www.woolworthsrewards.com.au          28.0         0.0   au   \n",
            "3                       ipfs.io          19.0         0.0  com   \n",
            "4        www.nyprowrestling.com          22.0         0.0  com   \n",
            "\n",
            "   CharContinuationRate  TLDLegitimateProb  URLCharProb  ...  Crypto  \\\n",
            "0              0.800000           0.522907     0.060264  ...     0.0   \n",
            "1              1.000000           0.000896     0.036850  ...     0.0   \n",
            "2              0.857143           0.522907     0.060894  ...     0.0   \n",
            "3              0.562500           0.522907     0.055829  ...     0.0   \n",
            "4              1.000000           0.522907     0.060264  ...     0.0   \n",
            "\n",
            "   HasCopyrightInfo  NoOfImage  NoOfCSS  NoOfJS  NoOfSelfRef  NoOfEmptyRef  \\\n",
            "0               1.0       23.0      3.0    12.0         69.0           0.0   \n",
            "1               0.0       23.0      5.0    12.0         69.0           0.0   \n",
            "2               1.0       33.0      7.0     8.0         15.0           0.0   \n",
            "3               1.0       24.0      5.0    14.0         69.0           0.0   \n",
            "4               1.0       23.0      5.0    14.0         69.0           0.0   \n",
            "\n",
            "   NoOfExternalRef  label  id  \n",
            "0             39.0    1.0   1  \n",
            "1              1.0    0.0   4  \n",
            "2              2.0    1.0   5  \n",
            "3             39.0    1.0   6  \n",
            "4             39.0    1.0  11  \n",
            "\n",
            "[5 rows x 56 columns]\n",
            "Cleaned dataset. First 5 rows:\n",
            "      FILENAME                                                URL  URLLength  \\\n",
            "0   100000.txt                          https://www.northcm.ac.th       24.0   \n",
            "1  8135291.txt                                http://uqr.to/1il1z       26.0   \n",
            "2   586561.txt               https://www.woolworthsrewards.com.au       35.0   \n",
            "3   100000.txt  http://test-mantenimiento-bancaweb.azurewebsit...       31.0   \n",
            "4   412632.txt  http://test-mantenimiento-bancaweb.azurewebsit...       26.0   \n",
            "\n",
            "                         Domain  DomainLength  IsDomainIP  TLD  \\\n",
            "0             www.northcm.ac.th          17.0         0.0  com   \n",
            "1                       ipfs.io          19.0         0.0   to   \n",
            "2  www.woolworthsrewards.com.au          28.0         0.0   au   \n",
            "3                       ipfs.io          19.0         0.0  com   \n",
            "4        www.nyprowrestling.com          22.0         0.0  com   \n",
            "\n",
            "   CharContinuationRate  TLDLegitimateProb  URLCharProb  ...  Crypto  \\\n",
            "0              0.800000           0.522907     0.060264  ...     0.0   \n",
            "1              1.000000           0.000896     0.036850  ...     0.0   \n",
            "2              0.857143           0.522907     0.060894  ...     0.0   \n",
            "3              0.562500           0.522907     0.055829  ...     0.0   \n",
            "4              1.000000           0.522907     0.060264  ...     0.0   \n",
            "\n",
            "   HasCopyrightInfo  NoOfImage  NoOfCSS  NoOfJS  NoOfSelfRef  NoOfEmptyRef  \\\n",
            "0               1.0       23.0      3.0    12.0         69.0           0.0   \n",
            "1               0.0       23.0      5.0    12.0         69.0           0.0   \n",
            "2               1.0       33.0      7.0     8.0         15.0           0.0   \n",
            "3               1.0       24.0      5.0    14.0         69.0           0.0   \n",
            "4               1.0       23.0      5.0    14.0         69.0           0.0   \n",
            "\n",
            "   NoOfExternalRef  label  id  \n",
            "0             39.0    1.0   1  \n",
            "1              1.0    0.0   4  \n",
            "2              2.0    1.0   5  \n",
            "3             39.0    1.0   6  \n",
            "4             39.0    1.0  11  \n",
            "\n",
            "[5 rows x 56 columns]\n"
          ]
        }
      ],
      "source": [
        "def clean_and_save_dataset(df):\n",
        "    \"\"\"\n",
        "    Cleans the dataset by imputing missing values iteratively and saves the cleaned dataset.\n",
        "    - Excludes 'id' column from imputation.\n",
        "    \n",
        "    Parameters:\n",
        "    - df: pd.DataFrame, the dataset to clean.\n",
        "    \n",
        "    Returns:\n",
        "    - cleaned_df: pd.DataFrame, the cleaned dataset.\n",
        "    \"\"\"\n",
        "    # Separate 'id' column if present\n",
        "    id_column = None\n",
        "    if 'id' in df.columns:\n",
        "        id_column = df['id']\n",
        "        df = df.drop(columns=['id'])\n",
        "\n",
        "    # Impute missing values for numeric columns using median\n",
        "    numeric_columns = df.select_dtypes(include=['float64', 'int64']).columns\n",
        "    if len(numeric_columns) > 0:\n",
        "        numeric_imputer = SimpleImputer(strategy='median')\n",
        "        df[numeric_columns] = numeric_imputer.fit_transform(df[numeric_columns])\n",
        "\n",
        "    # Impute missing values for categorical columns using mode\n",
        "    categorical_columns = df.select_dtypes(include=['object']).columns\n",
        "    if len(categorical_columns) > 0:\n",
        "        categorical_imputer = SimpleImputer(strategy='most_frequent')\n",
        "        df[categorical_columns] = categorical_imputer.fit_transform(df[categorical_columns])\n",
        "\n",
        "    # Reattach 'id' column if it was separated\n",
        "    if id_column is not None:\n",
        "        df['id'] = id_column\n",
        "\n",
        "    # Save the cleaned dataset\n",
        "    print(\"Cleaned dataset saved. First 5 rows:\")\n",
        "    print(df.head())\n",
        "    return df\n",
        "\n",
        "cleaned_train_df = clean_and_save_dataset(train_df)\n",
        "print(\"Cleaned dataset. First 5 rows:\")\n",
        "print(cleaned_train_df.head())"
      ]
    },
    {
      "cell_type": "markdown",
      "metadata": {
        "id": "zgrSMcK75VY_"
      },
      "source": [
        "### II. Dealing with Outliers\n",
        "\n",
        "Outliers are data points that significantly differ from the majority of the data. They can be unusually high or low values that do not fit the pattern of the rest of the dataset. Outliers can significantly impact model performance, so it is important to handle them properly.\n",
        "\n",
        "Some methods to handle outliers:\n",
        "1. **Imputation**: Replace with mean, median, or a boundary value.\n",
        "2. **Clipping**: Cap values to upper and lower limits.\n",
        "3. **Transformation**: Use log, square root, or power transformations to reduce their influence.\n",
        "4. **Model-Based**: Use algorithms robust to outliers (e.g., tree-based models, Huber regression)."
      ]
    },
    {
      "cell_type": "code",
      "execution_count": 24,
      "metadata": {
        "id": "CgbZ6Lv17Uf0"
      },
      "outputs": [
        {
          "name": "stdout",
          "output_type": "stream",
          "text": [
            "Outliers handled. First 5 rows:\n",
            "      FILENAME                                                URL  URLLength  \\\n",
            "0   100000.txt                          https://www.northcm.ac.th       24.0   \n",
            "1  8135291.txt                                http://uqr.to/1il1z       26.0   \n",
            "2   586561.txt               https://www.woolworthsrewards.com.au       35.0   \n",
            "3   100000.txt  http://test-mantenimiento-bancaweb.azurewebsit...       31.0   \n",
            "4   412632.txt  http://test-mantenimiento-bancaweb.azurewebsit...       26.0   \n",
            "\n",
            "                         Domain  DomainLength  IsDomainIP  TLD  \\\n",
            "0             www.northcm.ac.th          17.0         0.0  com   \n",
            "1                       ipfs.io          19.0         0.0   to   \n",
            "2  www.woolworthsrewards.com.au          28.0         0.0   au   \n",
            "3                       ipfs.io          19.0         0.0  com   \n",
            "4        www.nyprowrestling.com          22.0         0.0  com   \n",
            "\n",
            "   CharContinuationRate  TLDLegitimateProb  URLCharProb  ...  Crypto  \\\n",
            "0              0.800000           0.522907     0.060264  ...     0.0   \n",
            "1              1.000000           0.000896     0.036850  ...     0.0   \n",
            "2              0.857143           0.522907     0.060894  ...     0.0   \n",
            "3              0.562500           0.522907     0.055829  ...     0.0   \n",
            "4              1.000000           0.522907     0.060264  ...     0.0   \n",
            "\n",
            "   HasCopyrightInfo  NoOfImage  NoOfCSS  NoOfJS  NoOfSelfRef  NoOfEmptyRef  \\\n",
            "0               1.0       23.0      3.0    12.0         69.0           0.0   \n",
            "1               0.0       23.0      5.0    12.0         69.0           0.0   \n",
            "2               1.0       33.0      7.0     8.0         15.0           0.0   \n",
            "3               1.0       24.0      5.0    14.0         69.0           0.0   \n",
            "4               1.0       23.0      5.0    14.0         69.0           0.0   \n",
            "\n",
            "   NoOfExternalRef  label       id  \n",
            "0             39.0    1.0  2326.03  \n",
            "1              1.0    0.0  2326.03  \n",
            "2              2.0    1.0  2326.03  \n",
            "3             39.0    1.0  2326.03  \n",
            "4             39.0    1.0  2326.03  \n",
            "\n",
            "[5 rows x 56 columns]\n"
          ]
        }
      ],
      "source": [
        "def handle_outliers(df, method=\"clipping\", lower_percentile=0.01, upper_percentile=0.99):\n",
        "    \"\"\"\n",
        "    Handles outliers in the dataset.\n",
        "    \n",
        "    Parameters:\n",
        "    - df: pd.DataFrame, the dataset to handle outliers.\n",
        "    - method: str, the method to handle outliers ('imputation', 'clipping', 'transformation').\n",
        "    - lower_percentile: float, the lower percentile for clipping (default=0.01).\n",
        "    - upper_percentile: float, the upper percentile for clipping (default=0.99).\n",
        "    \n",
        "    Returns:\n",
        "    - df: pd.DataFrame, the dataset with outliers handled.\n",
        "    \"\"\"\n",
        "    numeric_columns = df.select_dtypes(include=['float64', 'int64']).columns\n",
        "    \n",
        "    if method == \"clipping\":\n",
        "        for col in numeric_columns:\n",
        "            lower_bound = df[col].quantile(lower_percentile)\n",
        "            upper_bound = df[col].quantile(upper_percentile)\n",
        "            df[col] = np.clip(df[col], lower_bound, upper_bound)\n",
        "    elif method == \"imputation\":\n",
        "        for col in numeric_columns:\n",
        "            lower_bound = df[col].quantile(lower_percentile)\n",
        "            upper_bound = df[col].quantile(upper_percentile)\n",
        "            median_value = df[col].median()\n",
        "            df[col] = df[col].apply(lambda x: median_value if x < lower_bound or x > upper_bound else x)\n",
        "    elif method == \"transformation\":\n",
        "        for col in numeric_columns:\n",
        "            df[col] = np.log1p(df[col] - df[col].min() + 1)  # Apply log transformation\n",
        "    else:\n",
        "        raise ValueError(\"Unsupported method. Choose from 'imputation', 'clipping', or 'transformation'.\")\n",
        "    \n",
        "    return df\n",
        "\n",
        "outlier_handled_df = handle_outliers(cleaned_train_df, method=\"clipping\")\n",
        "print(\"Outliers handled. First 5 rows:\")\n",
        "print(outlier_handled_df.head())\n"
      ]
    },
    {
      "cell_type": "markdown",
      "metadata": {
        "id": "aO0ZEZ-s6Lu-"
      },
      "source": [
        "### III. Remove Duplicates\n",
        "Handling duplicate values is crucial because they can compromise data integrity, leading to inaccurate analysis and insights. Duplicate entries can bias machine learning models, causing overfitting and reducing their ability to generalize to new data. They also inflate the dataset size unnecessarily, increasing computational costs and processing times. Additionally, duplicates can distort statistical measures and lead to inconsistencies, ultimately affecting the reliability of data-driven decisions and reporting. Ensuring data quality by removing duplicates is essential for accurate, efficient, and consistent analysis."
      ]
    },
    {
      "cell_type": "code",
      "execution_count": 29,
      "metadata": {
        "id": "BHCkkZ-v7iF8"
      },
      "outputs": [
        {
          "name": "stdout",
          "output_type": "stream",
          "text": [
            "Duplicates removed: 0\n",
            "Dataset after removing duplicates. First 5 rows:\n",
            "      FILENAME                                                URL  URLLength  \\\n",
            "0   100000.txt                          https://www.northcm.ac.th       24.0   \n",
            "1  8135291.txt                                http://uqr.to/1il1z       26.0   \n",
            "2   586561.txt               https://www.woolworthsrewards.com.au       35.0   \n",
            "3   100000.txt  http://test-mantenimiento-bancaweb.azurewebsit...       31.0   \n",
            "4   412632.txt  http://test-mantenimiento-bancaweb.azurewebsit...       26.0   \n",
            "\n",
            "                         Domain  DomainLength  IsDomainIP  TLD  \\\n",
            "0             www.northcm.ac.th          17.0         0.0  com   \n",
            "1                       ipfs.io          19.0         0.0   to   \n",
            "2  www.woolworthsrewards.com.au          28.0         0.0   au   \n",
            "3                       ipfs.io          19.0         0.0  com   \n",
            "4        www.nyprowrestling.com          22.0         0.0  com   \n",
            "\n",
            "   CharContinuationRate  TLDLegitimateProb  URLCharProb  ...  Crypto  \\\n",
            "0              0.800000           0.522907     0.060264  ...     0.0   \n",
            "1              1.000000           0.000896     0.036850  ...     0.0   \n",
            "2              0.857143           0.522907     0.060894  ...     0.0   \n",
            "3              0.562500           0.522907     0.055829  ...     0.0   \n",
            "4              1.000000           0.522907     0.060264  ...     0.0   \n",
            "\n",
            "   HasCopyrightInfo  NoOfImage  NoOfCSS  NoOfJS  NoOfSelfRef  NoOfEmptyRef  \\\n",
            "0               1.0       23.0      3.0    12.0         69.0           0.0   \n",
            "1               0.0       23.0      5.0    12.0         69.0           0.0   \n",
            "2               1.0       33.0      7.0     8.0         15.0           0.0   \n",
            "3               1.0       24.0      5.0    14.0         69.0           0.0   \n",
            "4               1.0       23.0      5.0    14.0         69.0           0.0   \n",
            "\n",
            "   NoOfExternalRef  label       id  \n",
            "0             39.0    1.0  2326.03  \n",
            "1              1.0    0.0  2326.03  \n",
            "2              2.0    1.0  2326.03  \n",
            "3             39.0    1.0  2326.03  \n",
            "4             39.0    1.0  2326.03  \n",
            "\n",
            "[5 rows x 56 columns]\n"
          ]
        }
      ],
      "source": [
        "def remove_duplicates(df):\n",
        "    \"\"\"\n",
        "    Removes duplicate rows from the dataset.\n",
        "    \n",
        "    Parameters:\n",
        "    - df: pd.DataFrame, the dataset to remove duplicates from.\n",
        "    \n",
        "    Returns:\n",
        "    - df: pd.DataFrame, the dataset with duplicates removed.\n",
        "    \"\"\"\n",
        "    initial_shape = df.shape\n",
        "    df = df.drop_duplicates()\n",
        "    final_shape = df.shape\n",
        "    print(f\"Duplicates removed: {initial_shape[0] - final_shape[0]}\")\n",
        "    return df\n",
        "\n",
        "deduplicated_df = remove_duplicates(outlier_handled_df)\n",
        "print(\"Dataset after removing duplicates. First 5 rows:\")\n",
        "print(deduplicated_df.head())\n",
        "deduplicated_df.to_csv('clean_train.csv', index=False)"
      ]
    },
    {
      "cell_type": "markdown",
      "metadata": {
        "id": "eycPASmMLfHa"
      },
      "source": [
        "### IV. Feature Engineering\n",
        "\n",
        "**Feature engineering** involves creating new features (input variables) or transforming existing ones to improve the performance of machine learning models. Feature engineering aims to enhance the model's ability to learn patterns and make accurate predictions from the data. It's often said that \"good features make good models.\"\n",
        "\n",
        "1. **Feature Selection:** Feature engineering can involve selecting the most relevant and informative features from the dataset. Removing irrelevant or redundant features not only simplifies the model but also reduces the risk of overfitting.\n",
        "\n",
        "2. **Creating New Features:** Sometimes, the existing features may not capture the underlying patterns effectively. In such cases, engineers create new features that provide additional information. For example:\n",
        "   \n",
        "   - **Polynomial Features:** Engineers may create new features by taking the square, cube, or other higher-order terms of existing numerical features. This can help capture nonlinear relationships.\n",
        "   \n",
        "   - **Interaction Features:** Interaction features are created by combining two or more existing features. For example, if you have features \"length\" and \"width,\" you can create an \"area\" feature by multiplying them.\n",
        "\n",
        "3. **Binning or Discretization:** Continuous numerical features can be divided into bins or categories. For instance, age values can be grouped into bins like \"child,\" \"adult,\" and \"senior.\"\n",
        "\n",
        "4. **Domain-Specific Feature Engineering:** Depending on the domain and problem, engineers may create domain-specific features. For example, in fraud detection, features related to transaction history and user behavior may be engineered to identify anomalies.\n",
        "\n",
        "Feature engineering is both a creative and iterative process. It requires a deep understanding of the data, domain knowledge, and experimentation to determine which features will enhance the model's predictive power."
      ]
    },
    {
      "cell_type": "code",
      "execution_count": 28,
      "metadata": {
        "id": "UoXEV6wkLfHa"
      },
      "outputs": [
        {
          "name": "stdout",
          "output_type": "stream",
          "text": [
            "Feature engineering completed. First 5 rows:\n",
            "      FILENAME                                                URL  URLLength  \\\n",
            "0   100000.txt                          https://www.northcm.ac.th  -0.560069   \n",
            "1  8135291.txt                                http://uqr.to/1il1z  -0.112224   \n",
            "2   586561.txt               https://www.woolworthsrewards.com.au   1.903076   \n",
            "3   100000.txt  http://test-mantenimiento-bancaweb.azurewebsit...   1.007387   \n",
            "4   412632.txt  http://test-mantenimiento-bancaweb.azurewebsit...  -0.112224   \n",
            "\n",
            "                         Domain  DomainLength  IsDomainIP  TLD  \\\n",
            "0             www.northcm.ac.th     -0.555865         0.0  com   \n",
            "1                       ipfs.io     -0.080617         0.0   to   \n",
            "2  www.woolworthsrewards.com.au      2.057997         0.0   au   \n",
            "3                       ipfs.io     -0.080617         0.0  com   \n",
            "4        www.nyprowrestling.com      0.632254         0.0  com   \n",
            "\n",
            "   CharContinuationRate  TLDLegitimateProb  URLCharProb  ...  \\\n",
            "0             -1.116890           0.667641     0.094844  ...   \n",
            "1              0.404617          -1.610201    -3.800364  ...   \n",
            "2             -0.682174           0.667641     0.199600  ...   \n",
            "3             -2.923680           0.667641    -0.642876  ...   \n",
            "4              0.404617           0.667641     0.094844  ...   \n",
            "\n",
            "   NoOfSelfRef NoOfEmptyRef  NoOfSelfRef NoOfExternalRef  NoOfSelfRef label  \\\n",
            "0                       0.0                       2691.0               69.0   \n",
            "1                       0.0                         69.0                0.0   \n",
            "2                       0.0                         30.0               15.0   \n",
            "3                       0.0                       2691.0               69.0   \n",
            "4                       0.0                       2691.0               69.0   \n",
            "\n",
            "   NoOfSelfRef id  NoOfEmptyRef NoOfExternalRef  NoOfEmptyRef label  \\\n",
            "0       160496.07                           0.0                 0.0   \n",
            "1       160496.07                           0.0                 0.0   \n",
            "2        34890.45                           0.0                 0.0   \n",
            "3       160496.07                           0.0                 0.0   \n",
            "4       160496.07                           0.0                 0.0   \n",
            "\n",
            "   NoOfEmptyRef id  NoOfExternalRef label  NoOfExternalRef id  label id  \n",
            "0              0.0                   39.0            90715.17   2326.03  \n",
            "1              0.0                    0.0             2326.03      0.00  \n",
            "2              0.0                    2.0             4652.06   2326.03  \n",
            "3              0.0                   39.0            90715.17   2326.03  \n",
            "4              0.0                   39.0            90715.17   2326.03  \n",
            "\n",
            "[5 rows x 1382 columns]\n"
          ]
        }
      ],
      "source": [
        "def feature_engineering(df):\n",
        "    \"\"\"\n",
        "    Performs feature engineering by adding polynomial, interaction features and scaling.\n",
        "    \n",
        "    Parameters:\n",
        "    - df: pd.DataFrame, the dataset to engineer features.\n",
        "    \n",
        "    Returns:\n",
        "    - df: pd.DataFrame, the dataset with new features added.\n",
        "    \"\"\"\n",
        "    numeric_columns = df.select_dtypes(include=['float64', 'int64']).columns\n",
        "    if len(numeric_columns) > 0:\n",
        "        # Generate polynomial and interaction features\n",
        "        poly = PolynomialFeatures(degree=2, interaction_only=True, include_bias=False)\n",
        "        poly_features = poly.fit_transform(df[numeric_columns])\n",
        "        poly_feature_names = poly.get_feature_names_out(numeric_columns)\n",
        "        poly_df = pd.DataFrame(poly_features, columns=poly_feature_names, index=df.index)\n",
        "        df = pd.concat([df, poly_df], axis=1)\n",
        "\n",
        "        # Scale numeric features\n",
        "        scaler = StandardScaler()\n",
        "        df[numeric_columns] = scaler.fit_transform(df[numeric_columns])\n",
        "    return df\n",
        "\n",
        "engineered_df = feature_engineering(deduplicated_df)\n",
        "print(\"Feature engineering completed. First 5 rows:\")\n",
        "print(engineered_df.head())"
      ]
    },
    {
      "cell_type": "markdown",
      "metadata": {
        "id": "xw11_49xLfHb"
      },
      "source": [
        "## B. Data Preprocessing\n",
        "\n",
        "**Data preprocessing** is a broader step that encompasses both data cleaning and additional transformations to make the data suitable for machine learning algorithms. Its primary goals are:\n",
        "\n",
        "1. **Feature Scaling:** Ensure that numerical features have similar scales. Common techniques include Min-Max scaling (scaling to a specific range) or standardization (mean-centered, unit variance).\n",
        "\n",
        "2. **Encoding Categorical Variables:** Machine learning models typically work with numerical data, so categorical variables need to be encoded. This can be done using one-hot encoding, label encoding, or more advanced methods like target encoding.\n",
        "\n",
        "3. **Handling Imbalanced Classes:** If dealing with imbalanced classes in a binary classification task, apply techniques such as oversampling, undersampling, or using different evaluation metrics to address class imbalance.\n",
        "\n",
        "4. **Dimensionality Reduction:** Reduce the number of features using techniques like Principal Component Analysis (PCA) or feature selection to simplify the model and potentially improve its performance.\n",
        "\n",
        "5. **Normalization:** Normalize data to achieve a standard distribution. This is particularly important for algorithms that assume normally distributed data."
      ]
    },
    {
      "cell_type": "markdown",
      "metadata": {
        "id": "rVyVnA1hLfHd"
      },
      "source": [
        "### Notes on Preprocessing processes\n",
        "\n",
        "It is advised to create functions or classes that have the same/similar type of inputs and outputs, so you can add, remove, or swap the order of the processes easily. You can implement the functions or classes by yourself\n",
        "\n",
        "or\n",
        "\n",
        "use `sklearn` library. To create a new preprocessing component in `sklearn`, implement a corresponding class that includes:\n",
        "1. Inheritance to `BaseEstimator` and `TransformerMixin`\n",
        "2. The method `fit`\n",
        "3. The method `transform`"
      ]
    },
    {
      "cell_type": "code",
      "execution_count": 25,
      "metadata": {
        "id": "WbxHt-5eKz_I"
      },
      "outputs": [],
      "source": [
        "class DataPreprocessor(BaseEstimator, TransformerMixin):\n",
        "    def __init__(self):\n",
        "        self.numeric_transformer = Pipeline(steps=[\n",
        "            ('imputer', SimpleImputer(strategy='mean')),\n",
        "            ('scaler', StandardScaler())\n",
        "        ])\n",
        "\n",
        "        self.categorical_transformer = Pipeline(steps=[\n",
        "            ('imputer', SimpleImputer(strategy='most_frequent')),\n",
        "            ('onehot', OneHotEncoder(handle_unknown='ignore'))\n",
        "        ])\n",
        "\n",
        "        self.preprocessor = None\n",
        "\n",
        "    def fit(self, X, y=None):\n",
        "        # Select numeric and categorical columns\n",
        "        numeric_features = X.select_dtypes(include=['int64', 'float64']).columns\n",
        "        categorical_features = X.select_dtypes(include=['object']).columns\n",
        "\n",
        "        # Create column transformer\n",
        "        self.preprocessor = ColumnTransformer(\n",
        "            transformers=[\n",
        "                ('num', self.numeric_transformer, numeric_features),\n",
        "                ('cat', self.categorical_transformer, categorical_features)\n",
        "            ]\n",
        "        )\n",
        "\n",
        "        self.preprocessor.fit(X)\n",
        "        return self\n",
        "\n",
        "    def transform(self, X):\n",
        "        return self.preprocessor.transform(X)\n",
        "\n",
        "# Example usage\n",
        "# Initialize the preprocessor\n",
        "preprocessor = DataPreprocessor()\n",
        "\n",
        "# Split data into features and labels\n",
        "X = train_df.drop(columns=['label'])  # Features\n",
        "y = train_df['label']  # Target\n",
        "\n",
        "# Fit and transform the data\n",
        "preprocessor.fit(X)\n",
        "X_processed = preprocessor.transform(X)"
      ]
    },
    {
      "cell_type": "markdown",
      "metadata": {
        "id": "WhCgOl4xLfHb"
      },
      "source": [
        "### I. Feature Scaling\n",
        "\n",
        "**Feature scaling** is a preprocessing technique used in machine learning to standardize the range of independent variables or features of data. The primary goal of feature scaling is to ensure that all features contribute equally to the training process and that machine learning algorithms can work effectively with the data.\n",
        "\n",
        "Here are the main reasons why feature scaling is important:\n",
        "\n",
        "1. **Algorithm Sensitivity:** Many machine learning algorithms are sensitive to the scale of input features. If the scales of features are significantly different, some algorithms may perform poorly or take much longer to converge.\n",
        "\n",
        "2. **Distance-Based Algorithms:** Algorithms that rely on distances or similarities between data points, such as k-nearest neighbors (KNN) and support vector machines (SVM), can be influenced by feature scales. Features with larger scales may dominate the distance calculations.\n",
        "\n",
        "3. **Regularization:** Regularization techniques, like L1 (Lasso) and L2 (Ridge) regularization, add penalty terms based on feature coefficients. Scaling ensures that all features are treated equally in the regularization process.\n",
        "\n",
        "Common methods for feature scaling include:\n",
        "\n",
        "1. **Min-Max Scaling (Normalization):** This method scales features to a specific range, typically [0, 1]. It's done using the following formula:\n",
        "\n",
        "   $$X' = \\frac{X - X_{min}}{X_{max} - X_{min}}$$\n",
        "\n",
        "   - Here, $X$ is the original feature value, $X_{min}$ is the minimum value of the feature, and $X_{max}$ is the maximum value of the feature.  \n",
        "<br />\n",
        "<br />\n",
        "2. **Standardization (Z-score Scaling):** This method scales features to have a mean (average) of 0 and a standard deviation of 1. It's done using the following formula:\n",
        "\n",
        "   $$X' = \\frac{X - \\mu}{\\sigma}$$\n",
        "\n",
        "   - $X$ is the original feature value, $\\mu$ is the mean of the feature, and $\\sigma$ is the standard deviation of the feature.  \n",
        "<br />\n",
        "<br />\n",
        "3. **Robust Scaling:** Robust scaling is a method that scales features to the interquartile range (IQR) and is less affected by outliers. It's calculated as:\n",
        "\n",
        "   $$X' = \\frac{X - Q1}{Q3 - Q1}$$\n",
        "\n",
        "   - $X$ is the original feature value, $Q1$ is the first quartile (25th percentile), and $Q3$ is the third quartile (75th percentile) of the feature.  \n",
        "<br />\n",
        "<br />\n",
        "4. **Log Transformation:** In cases where data is highly skewed or has a heavy-tailed distribution, taking the logarithm of the feature values can help stabilize the variance and improve scaling.\n",
        "\n",
        "The choice of scaling method depends on the characteristics of your data and the requirements of your machine learning algorithm. **Min-max scaling and standardization are the most commonly used techniques and work well for many datasets.**\n",
        "\n",
        "Scaling should be applied separately to each training and test set to prevent data leakage from the test set into the training set. Additionally, **some algorithms may not require feature scaling, particularly tree-based models.**"
      ]
    },
    {
      "cell_type": "code",
      "execution_count": 27,
      "metadata": {
        "id": "COef9EbCLfHb"
      },
      "outputs": [
        {
          "ename": "KeyError",
          "evalue": "\"['target_column'] not found in axis\"",
          "output_type": "error",
          "traceback": [
            "\u001b[1;31m---------------------------------------------------------------------------\u001b[0m",
            "\u001b[1;31mKeyError\u001b[0m                                  Traceback (most recent call last)",
            "Cell \u001b[1;32mIn[27], line 1\u001b[0m\n\u001b[1;32m----> 1\u001b[0m X \u001b[38;5;241m=\u001b[39m \u001b[43mtrain_df\u001b[49m\u001b[38;5;241;43m.\u001b[39;49m\u001b[43mdrop\u001b[49m\u001b[43m(\u001b[49m\u001b[38;5;124;43m'\u001b[39;49m\u001b[38;5;124;43mtarget_column\u001b[39;49m\u001b[38;5;124;43m'\u001b[39;49m\u001b[43m,\u001b[49m\u001b[43m \u001b[49m\u001b[43maxis\u001b[49m\u001b[38;5;241;43m=\u001b[39;49m\u001b[38;5;241;43m1\u001b[39;49m\u001b[43m)\u001b[49m  \u001b[38;5;66;03m# Replace 'target_column' with the actual name\u001b[39;00m\n\u001b[0;32m      2\u001b[0m y \u001b[38;5;241m=\u001b[39m train_df[\u001b[38;5;124m'\u001b[39m\u001b[38;5;124mtarget_column\u001b[39m\u001b[38;5;124m'\u001b[39m]\n\u001b[0;32m      4\u001b[0m \u001b[38;5;66;03m# Scale features\u001b[39;00m\n",
            "File \u001b[1;32mc:\\Desktop\\current project\\TugasAI\\.venv\\Lib\\site-packages\\pandas\\core\\frame.py:5581\u001b[0m, in \u001b[0;36mDataFrame.drop\u001b[1;34m(self, labels, axis, index, columns, level, inplace, errors)\u001b[0m\n\u001b[0;32m   5433\u001b[0m \u001b[38;5;28;01mdef\u001b[39;00m \u001b[38;5;21mdrop\u001b[39m(\n\u001b[0;32m   5434\u001b[0m     \u001b[38;5;28mself\u001b[39m,\n\u001b[0;32m   5435\u001b[0m     labels: IndexLabel \u001b[38;5;241m|\u001b[39m \u001b[38;5;28;01mNone\u001b[39;00m \u001b[38;5;241m=\u001b[39m \u001b[38;5;28;01mNone\u001b[39;00m,\n\u001b[1;32m   (...)\u001b[0m\n\u001b[0;32m   5442\u001b[0m     errors: IgnoreRaise \u001b[38;5;241m=\u001b[39m \u001b[38;5;124m\"\u001b[39m\u001b[38;5;124mraise\u001b[39m\u001b[38;5;124m\"\u001b[39m,\n\u001b[0;32m   5443\u001b[0m ) \u001b[38;5;241m-\u001b[39m\u001b[38;5;241m>\u001b[39m DataFrame \u001b[38;5;241m|\u001b[39m \u001b[38;5;28;01mNone\u001b[39;00m:\n\u001b[0;32m   5444\u001b[0m \u001b[38;5;250m    \u001b[39m\u001b[38;5;124;03m\"\"\"\u001b[39;00m\n\u001b[0;32m   5445\u001b[0m \u001b[38;5;124;03m    Drop specified labels from rows or columns.\u001b[39;00m\n\u001b[0;32m   5446\u001b[0m \n\u001b[1;32m   (...)\u001b[0m\n\u001b[0;32m   5579\u001b[0m \u001b[38;5;124;03m            weight  1.0     0.8\u001b[39;00m\n\u001b[0;32m   5580\u001b[0m \u001b[38;5;124;03m    \"\"\"\u001b[39;00m\n\u001b[1;32m-> 5581\u001b[0m     \u001b[38;5;28;01mreturn\u001b[39;00m \u001b[38;5;28;43msuper\u001b[39;49m\u001b[43m(\u001b[49m\u001b[43m)\u001b[49m\u001b[38;5;241;43m.\u001b[39;49m\u001b[43mdrop\u001b[49m\u001b[43m(\u001b[49m\n\u001b[0;32m   5582\u001b[0m \u001b[43m        \u001b[49m\u001b[43mlabels\u001b[49m\u001b[38;5;241;43m=\u001b[39;49m\u001b[43mlabels\u001b[49m\u001b[43m,\u001b[49m\n\u001b[0;32m   5583\u001b[0m \u001b[43m        \u001b[49m\u001b[43maxis\u001b[49m\u001b[38;5;241;43m=\u001b[39;49m\u001b[43maxis\u001b[49m\u001b[43m,\u001b[49m\n\u001b[0;32m   5584\u001b[0m \u001b[43m        \u001b[49m\u001b[43mindex\u001b[49m\u001b[38;5;241;43m=\u001b[39;49m\u001b[43mindex\u001b[49m\u001b[43m,\u001b[49m\n\u001b[0;32m   5585\u001b[0m \u001b[43m        \u001b[49m\u001b[43mcolumns\u001b[49m\u001b[38;5;241;43m=\u001b[39;49m\u001b[43mcolumns\u001b[49m\u001b[43m,\u001b[49m\n\u001b[0;32m   5586\u001b[0m \u001b[43m        \u001b[49m\u001b[43mlevel\u001b[49m\u001b[38;5;241;43m=\u001b[39;49m\u001b[43mlevel\u001b[49m\u001b[43m,\u001b[49m\n\u001b[0;32m   5587\u001b[0m \u001b[43m        \u001b[49m\u001b[43minplace\u001b[49m\u001b[38;5;241;43m=\u001b[39;49m\u001b[43minplace\u001b[49m\u001b[43m,\u001b[49m\n\u001b[0;32m   5588\u001b[0m \u001b[43m        \u001b[49m\u001b[43merrors\u001b[49m\u001b[38;5;241;43m=\u001b[39;49m\u001b[43merrors\u001b[49m\u001b[43m,\u001b[49m\n\u001b[0;32m   5589\u001b[0m \u001b[43m    \u001b[49m\u001b[43m)\u001b[49m\n",
            "File \u001b[1;32mc:\\Desktop\\current project\\TugasAI\\.venv\\Lib\\site-packages\\pandas\\core\\generic.py:4788\u001b[0m, in \u001b[0;36mNDFrame.drop\u001b[1;34m(self, labels, axis, index, columns, level, inplace, errors)\u001b[0m\n\u001b[0;32m   4786\u001b[0m \u001b[38;5;28;01mfor\u001b[39;00m axis, labels \u001b[38;5;129;01min\u001b[39;00m axes\u001b[38;5;241m.\u001b[39mitems():\n\u001b[0;32m   4787\u001b[0m     \u001b[38;5;28;01mif\u001b[39;00m labels \u001b[38;5;129;01mis\u001b[39;00m \u001b[38;5;129;01mnot\u001b[39;00m \u001b[38;5;28;01mNone\u001b[39;00m:\n\u001b[1;32m-> 4788\u001b[0m         obj \u001b[38;5;241m=\u001b[39m \u001b[43mobj\u001b[49m\u001b[38;5;241;43m.\u001b[39;49m\u001b[43m_drop_axis\u001b[49m\u001b[43m(\u001b[49m\u001b[43mlabels\u001b[49m\u001b[43m,\u001b[49m\u001b[43m \u001b[49m\u001b[43maxis\u001b[49m\u001b[43m,\u001b[49m\u001b[43m \u001b[49m\u001b[43mlevel\u001b[49m\u001b[38;5;241;43m=\u001b[39;49m\u001b[43mlevel\u001b[49m\u001b[43m,\u001b[49m\u001b[43m \u001b[49m\u001b[43merrors\u001b[49m\u001b[38;5;241;43m=\u001b[39;49m\u001b[43merrors\u001b[49m\u001b[43m)\u001b[49m\n\u001b[0;32m   4790\u001b[0m \u001b[38;5;28;01mif\u001b[39;00m inplace:\n\u001b[0;32m   4791\u001b[0m     \u001b[38;5;28mself\u001b[39m\u001b[38;5;241m.\u001b[39m_update_inplace(obj)\n",
            "File \u001b[1;32mc:\\Desktop\\current project\\TugasAI\\.venv\\Lib\\site-packages\\pandas\\core\\generic.py:4830\u001b[0m, in \u001b[0;36mNDFrame._drop_axis\u001b[1;34m(self, labels, axis, level, errors, only_slice)\u001b[0m\n\u001b[0;32m   4828\u001b[0m         new_axis \u001b[38;5;241m=\u001b[39m axis\u001b[38;5;241m.\u001b[39mdrop(labels, level\u001b[38;5;241m=\u001b[39mlevel, errors\u001b[38;5;241m=\u001b[39merrors)\n\u001b[0;32m   4829\u001b[0m     \u001b[38;5;28;01melse\u001b[39;00m:\n\u001b[1;32m-> 4830\u001b[0m         new_axis \u001b[38;5;241m=\u001b[39m \u001b[43maxis\u001b[49m\u001b[38;5;241;43m.\u001b[39;49m\u001b[43mdrop\u001b[49m\u001b[43m(\u001b[49m\u001b[43mlabels\u001b[49m\u001b[43m,\u001b[49m\u001b[43m \u001b[49m\u001b[43merrors\u001b[49m\u001b[38;5;241;43m=\u001b[39;49m\u001b[43merrors\u001b[49m\u001b[43m)\u001b[49m\n\u001b[0;32m   4831\u001b[0m     indexer \u001b[38;5;241m=\u001b[39m axis\u001b[38;5;241m.\u001b[39mget_indexer(new_axis)\n\u001b[0;32m   4833\u001b[0m \u001b[38;5;66;03m# Case for non-unique axis\u001b[39;00m\n\u001b[0;32m   4834\u001b[0m \u001b[38;5;28;01melse\u001b[39;00m:\n",
            "File \u001b[1;32mc:\\Desktop\\current project\\TugasAI\\.venv\\Lib\\site-packages\\pandas\\core\\indexes\\base.py:7070\u001b[0m, in \u001b[0;36mIndex.drop\u001b[1;34m(self, labels, errors)\u001b[0m\n\u001b[0;32m   7068\u001b[0m \u001b[38;5;28;01mif\u001b[39;00m mask\u001b[38;5;241m.\u001b[39many():\n\u001b[0;32m   7069\u001b[0m     \u001b[38;5;28;01mif\u001b[39;00m errors \u001b[38;5;241m!=\u001b[39m \u001b[38;5;124m\"\u001b[39m\u001b[38;5;124mignore\u001b[39m\u001b[38;5;124m\"\u001b[39m:\n\u001b[1;32m-> 7070\u001b[0m         \u001b[38;5;28;01mraise\u001b[39;00m \u001b[38;5;167;01mKeyError\u001b[39;00m(\u001b[38;5;124mf\u001b[39m\u001b[38;5;124m\"\u001b[39m\u001b[38;5;132;01m{\u001b[39;00mlabels[mask]\u001b[38;5;241m.\u001b[39mtolist()\u001b[38;5;132;01m}\u001b[39;00m\u001b[38;5;124m not found in axis\u001b[39m\u001b[38;5;124m\"\u001b[39m)\n\u001b[0;32m   7071\u001b[0m     indexer \u001b[38;5;241m=\u001b[39m indexer[\u001b[38;5;241m~\u001b[39mmask]\n\u001b[0;32m   7072\u001b[0m \u001b[38;5;28;01mreturn\u001b[39;00m \u001b[38;5;28mself\u001b[39m\u001b[38;5;241m.\u001b[39mdelete(indexer)\n",
            "\u001b[1;31mKeyError\u001b[0m: \"['target_column'] not found in axis\""
          ]
        }
      ],
      "source": [
        "X = train_df.drop('target_column', axis=1)  # Replace 'target_column' with the actual name\n",
        "y = train_df['target_column']\n",
        "\n",
        "# Scale features\n",
        "scaler = MinMaxScaler()  # Or use StandardScaler()\n",
        "X_scaled = scaler.fit_transform(X)\n",
        "\n",
        "# Split the dataset\n",
        "X_train, X_test, y_train, y_test = train_test_split(X_scaled, y, test_size=0.2, random_state=42)"
      ]
    },
    {
      "cell_type": "markdown",
      "metadata": {
        "id": "f_Lh-4JwLfHc"
      },
      "source": [
        "### II. Feature Encoding\n",
        "\n",
        "**Feature encoding**, also known as **categorical encoding**, is the process of converting categorical data (non-numeric data) into a numerical format so that it can be used as input for machine learning algorithms. Most machine learning models require numerical data for training and prediction, so feature encoding is a critical step in data preprocessing.\n",
        "\n",
        "Categorical data can take various forms, including:\n",
        "\n",
        "1. **Nominal Data:** Categories with no intrinsic order, like colors or country names.  \n",
        "\n",
        "2. **Ordinal Data:** Categories with a meaningful order but not necessarily equidistant, like education levels (e.g., \"high school,\" \"bachelor's,\" \"master's\").\n",
        "\n",
        "There are several common methods for encoding categorical data:\n",
        "\n",
        "1. **Label Encoding:**\n",
        "\n",
        "   - Label encoding assigns a unique integer to each category in a feature.\n",
        "   - It's suitable for ordinal data where there's a clear order among categories.\n",
        "   - For example, if you have an \"education\" feature with values \"high school,\" \"bachelor's,\" and \"master's,\" you can encode them as 0, 1, and 2, respectively.\n",
        "<br />\n",
        "<br />\n",
        "2. **One-Hot Encoding:**\n",
        "\n",
        "   - One-hot encoding creates a binary (0 or 1) column for each category in a nominal feature.\n",
        "   - It's suitable for nominal data where there's no inherent order among categories.\n",
        "   - Each category becomes a new feature, and the presence (1) or absence (0) of a category is indicated for each row.\n",
        "<br />\n",
        "<br />\n",
        "3. **Target Encoding (Mean Encoding):**\n",
        "\n",
        "   - Target encoding replaces each category with the mean of the target variable for that category.\n",
        "   - It's often used for classification problems."
      ]
    },
    {
      "cell_type": "code",
      "execution_count": 11,
      "metadata": {
        "id": "psElSUugLfHc"
      },
      "outputs": [],
      "source": [
        "# Write your code here"
      ]
    },
    {
      "cell_type": "markdown",
      "metadata": {
        "id": "jKQO9wtB8Pc0"
      },
      "source": [
        "### III. Handling Imbalanced Dataset\n",
        "\n",
        "**Handling imbalanced datasets** is important because imbalanced data can lead to several issues that negatively impact the performance and reliability of machine learning models. Here are some key reasons:\n",
        "\n",
        "1. **Biased Model Performance**:\n",
        "\n",
        " - Models trained on imbalanced data tend to be biased towards the majority class, leading to poor performance on the minority class. This can result in misleading accuracy metrics.\n",
        "\n",
        "2. **Misleading Accuracy**:\n",
        "\n",
        " - High overall accuracy can be misleading in imbalanced datasets. For example, if 95% of the data belongs to one class, a model that always predicts the majority class will have 95% accuracy but will fail to identify the minority class.\n",
        "\n",
        "3. **Poor Generalization**:\n",
        "\n",
        " - Models trained on imbalanced data may not generalize well to new, unseen data, especially if the minority class is underrepresented.\n",
        "\n",
        "\n",
        "Some methods to handle imbalanced datasets:\n",
        "1. **Resampling Methods**:\n",
        "\n",
        " - Oversampling: Increase the number of instances in the minority class by duplicating or generating synthetic samples (e.g., SMOTE).\n",
        " - Undersampling: Reduce the number of instances in the majority class to balance the dataset.\n",
        "\n",
        "2. **Evaluation Metrics**:\n",
        "\n",
        " - Use appropriate evaluation metrics such as precision, recall, F1-score, ROC-AUC, and confusion matrix instead of accuracy to better assess model performance on imbalanced data.\n",
        "\n",
        "3. **Algorithmic Approaches**:\n",
        "\n",
        " - Use algorithms that are designed to handle imbalanced data, such as decision trees, random forests, or ensemble methods.\n",
        " - Adjust class weights in algorithms to give more importance to the minority class."
      ]
    },
    {
      "cell_type": "code",
      "execution_count": 12,
      "metadata": {
        "id": "u2BQd2XJ9W1i"
      },
      "outputs": [],
      "source": [
        "# Write your code here"
      ]
    },
    {
      "cell_type": "markdown",
      "metadata": {
        "id": "-ctVzt5DLfHd"
      },
      "source": [
        "# 3. Compile Preprocessing Pipeline\n",
        "\n",
        "All of the preprocessing classes or functions defined earlier will be compiled in this step."
      ]
    },
    {
      "cell_type": "markdown",
      "metadata": {
        "id": "S_ZlncSVjJG6"
      },
      "source": [
        "If you use sklearn to create preprocessing classes, you can list your preprocessing classes in the Pipeline object sequentially, and then fit and transform your data."
      ]
    },
    {
      "cell_type": "code",
      "execution_count": null,
      "metadata": {
        "id": "jHraoW_7LfHd"
      },
      "outputs": [],
      "source": [
        "# from sklearn.pipeline import Pipeline\n",
        "\n",
        "# # Note: You can add or delete preprocessing components from this pipeline\n",
        "\n",
        "# pipe = Pipeline([(\"imputer\", FeatureImputer()),\n",
        "#                  (\"featurecreator\", FeatureCreator()),\n",
        "#                  (\"scaler\", FeatureScaler()),\n",
        "#                  (\"encoder\", FeatureEncoder())])\n",
        "\n",
        "# train_set = pipe.fit_transform(train_set)\n",
        "# val_set = pipe.transform(val_set)"
      ]
    },
    {
      "cell_type": "code",
      "execution_count": null,
      "metadata": {
        "id": "9s56aFFxLfHd"
      },
      "outputs": [],
      "source": [
        "# # Your code should work up until this point\n",
        "# train_set = pipe.fit_transform(train_set)\n",
        "# val_set = pipe.transform(val_set)"
      ]
    },
    {
      "cell_type": "markdown",
      "metadata": {
        "id": "SXoCqMztjhr-"
      },
      "source": [
        "or create your own here"
      ]
    },
    {
      "cell_type": "code",
      "execution_count": null,
      "metadata": {
        "id": "7OoZ3oXEj2CW"
      },
      "outputs": [],
      "source": [
        "# Write your code here"
      ]
    },
    {
      "cell_type": "markdown",
      "metadata": {
        "id": "9A3adbZXLfHe"
      },
      "source": [
        "# 4. Modeling and Validation\n",
        "\n",
        "Modelling is the process of building your own machine learning models to solve specific problems, or in this assignment context, predicting the target feature `label`. Validation is the process of evaluating your trained model using the validation set or cross-validation method and providing some metrics that can help you decide what to do in the next iteration of development."
      ]
    },
    {
      "cell_type": "markdown",
      "metadata": {
        "id": "ZnhMNbBILfHf"
      },
      "source": [
        "## A. KNN"
      ]
    },
    {
      "cell_type": "code",
      "execution_count": null,
      "metadata": {
        "id": "KV6ICmFmlqjk"
      },
      "outputs": [],
      "source": [
        "# Type your code here"
      ]
    },
    {
      "cell_type": "markdown",
      "metadata": {
        "id": "nW0bMzkDLfHf"
      },
      "source": [
        "## B. Naive Bayes"
      ]
    },
    {
      "cell_type": "code",
      "execution_count": null,
      "metadata": {
        "id": "C_XwsN_-LfHg"
      },
      "outputs": [],
      "source": [
        "# Type your code here"
      ]
    },
    {
      "cell_type": "markdown",
      "metadata": {
        "id": "LoH2u6fOLfHh"
      },
      "source": [
        "## C. Improvements (Optional)\n",
        "\n",
        "- **Visualize the model evaluation result**\n",
        "\n",
        "This will help you to understand the details more clearly about your model's performance. From the visualization, you can see clearly if your model is leaning towards a class than the others. (Hint: confusion matrix, ROC-AUC curve, etc.)\n",
        "\n",
        "- **Explore the hyperparameters of your models**\n",
        "\n",
        "Each models have their own hyperparameters. And each of the hyperparameter have different effects on the model behaviour. You can optimize the model performance by finding the good set of hyperparameters through a process called **hyperparameter tuning**. (Hint: Grid search, random search, bayesian optimization)\n",
        "\n",
        "- **Cross-validation**\n",
        "\n",
        "Cross-validation is a critical technique in machine learning and data science for evaluating and validating the performance of predictive models. It provides a more **robust** and **reliable** evaluation method compared to a hold-out (single train-test set) validation. Though, it requires more time and computing power because of how cross-validation works. (Hint: k-fold cross-validation, stratified k-fold cross-validation, etc.)"
      ]
    },
    {
      "cell_type": "code",
      "execution_count": null,
      "metadata": {
        "id": "pg-A54yELfHh"
      },
      "outputs": [],
      "source": [
        "# Type your code here"
      ]
    },
    {
      "cell_type": "markdown",
      "metadata": {
        "id": "Li4l53DjLfHh"
      },
      "source": [
        "## D. Submission\n",
        "To predict the test set target feature and submit the results to the kaggle competition platform, do the following:\n",
        "1. Create a new pipeline instance identical to the first in Data Preprocessing\n",
        "2. With the pipeline, apply `fit_transform` to the original training set before splitting, then only apply `transform` to the test set.\n",
        "3. Retrain the model on the preprocessed training set\n",
        "4. Predict the test set\n",
        "5. Make sure the submission contains the `id` and `label` column.\n",
        "\n",
        "Note: Adjust step 1 and 2 to your implementation of the preprocessing step if you don't use pipeline API from `sklearn`."
      ]
    },
    {
      "cell_type": "code",
      "execution_count": null,
      "metadata": {
        "id": "LeqnfWc-LfHi"
      },
      "outputs": [],
      "source": [
        "# Type your code here"
      ]
    },
    {
      "cell_type": "markdown",
      "metadata": {
        "id": "R-jXvKOpLfHi"
      },
      "source": [
        "# 6. Error Analysis\n",
        "\n",
        "Based on all the process you have done until the modeling and evaluation step, write an analysis to support each steps you have taken to solve this problem. Write the analysis using the markdown block. Some questions that may help you in writing the analysis:\n",
        "\n",
        "- Does my model perform better in predicting one class than the other? If so, why is that?\n",
        "- To each models I have tried, which performs the best and what could be the reason?\n",
        "- Is it better for me to impute or drop the missing data? Why?\n",
        "- Does feature scaling help improve my model performance?\n",
        "- etc..."
      ]
    },
    {
      "cell_type": "markdown",
      "metadata": {
        "id": "tWL3nEAELfHj"
      },
      "source": [
        "`Provide your analysis here`"
      ]
    }
  ],
  "metadata": {
    "colab": {
      "provenance": []
    },
    "kernelspec": {
      "display_name": "Python 3",
      "language": "python",
      "name": "python3"
    },
    "language_info": {
      "codemirror_mode": {
        "name": "ipython",
        "version": 3
      },
      "file_extension": ".py",
      "mimetype": "text/x-python",
      "name": "python",
      "nbconvert_exporter": "python",
      "pygments_lexer": "ipython3",
      "version": "3.10.11"
    }
  },
  "nbformat": 4,
  "nbformat_minor": 0
}
